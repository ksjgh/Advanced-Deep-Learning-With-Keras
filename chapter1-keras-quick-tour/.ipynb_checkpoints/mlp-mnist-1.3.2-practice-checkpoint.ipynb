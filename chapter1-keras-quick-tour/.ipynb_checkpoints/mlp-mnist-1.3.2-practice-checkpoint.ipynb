{
 "cells": [
  {
   "cell_type": "code",
   "execution_count": 1,
   "metadata": {},
   "outputs": [],
   "source": [
    "'''\n",
    "A MLP network for MNIST digits classification\n",
    "\n",
    "98.3% test accuracy in 20epochs\n",
    "\n",
    "https://github.com/PacktPublishing/Advanced-Deep-Learning-with-Keras\n",
    "'''\n",
    "\n",
    "from __future__ import absolute_import\n",
    "from __future__ import division\n",
    "from __future__ import print_function\n",
    "\n",
    "import numpy as np\n",
    "from keras.models import Sequential\n",
    "from keras.layers import Dense, Activation, Dropout\n",
    "from keras.utils import to_categorical, plot_model\n",
    "from keras.datasets import mnist"
   ]
  },
  {
   "cell_type": "code",
   "execution_count": 2,
   "metadata": {},
   "outputs": [],
   "source": [
    "# load mnist dataset\n",
    "(x_train, y_train), (x_test, y_test) = mnist.load_data()"
   ]
  },
  {
   "cell_type": "code",
   "execution_count": 4,
   "metadata": {},
   "outputs": [
    {
     "name": "stdout",
     "output_type": "stream",
     "text": [
      "10\n"
     ]
    }
   ],
   "source": [
    "# compute the number of labels\n",
    "num_labels = len(np.unique(y_test))\n",
    "print(num_labels)"
   ]
  },
  {
   "cell_type": "code",
   "execution_count": 5,
   "metadata": {},
   "outputs": [],
   "source": [
    "# convert to one-hot vector\n",
    "y_train = to_categorical(y_train)\n",
    "y_test = to_categorical(y_test)"
   ]
  },
  {
   "cell_type": "code",
   "execution_count": 6,
   "metadata": {},
   "outputs": [],
   "source": [
    "# image dimensions (assumed square)\n",
    "image_size = x_train.shape[1]\n",
    "input_size = image_size * image_size"
   ]
  },
  {
   "cell_type": "code",
   "execution_count": 7,
   "metadata": {},
   "outputs": [],
   "source": [
    "# reshape input\n",
    "x_train = np.reshape(x_train, [-1,input_size])\n",
    "x_train = x_train.astype('float32')/255\n",
    "x_test = np.reshape(x_test, [-1,input_size])\n",
    "x_test = x_test.astype('float32')/255"
   ]
  },
  {
   "cell_type": "code",
   "execution_count": 8,
   "metadata": {},
   "outputs": [
    {
     "data": {
      "text/plain": [
       "(60000, 784)"
      ]
     },
     "execution_count": 8,
     "metadata": {},
     "output_type": "execute_result"
    }
   ],
   "source": [
    "x_train.shape"
   ]
  },
  {
   "cell_type": "code",
   "execution_count": 12,
   "metadata": {},
   "outputs": [
    {
     "data": {
      "text/plain": [
       "array([0.        , 0.        , 0.        , 0.        , 0.        ,\n",
       "       0.        , 0.        , 0.        , 0.        , 0.        ,\n",
       "       0.        , 0.        , 0.        , 0.        , 0.        ,\n",
       "       0.        , 0.        , 0.        , 0.        , 0.54509807,\n",
       "       0.99215686, 0.74509805, 0.00784314, 0.        , 0.        ,\n",
       "       0.        , 0.        , 0.        , 0.        , 0.        ,\n",
       "       0.        , 0.        , 0.        , 0.        , 0.        ,\n",
       "       0.        , 0.        , 0.        , 0.        , 0.        ,\n",
       "       0.        , 0.        , 0.        , 0.        , 0.        ,\n",
       "       0.        , 0.        , 0.04313726, 0.74509805, 0.99215686,\n",
       "       0.27450982, 0.        , 0.        , 0.        , 0.        ,\n",
       "       0.        , 0.        , 0.        , 0.        , 0.        ,\n",
       "       0.        , 0.        , 0.        , 0.        , 0.        ,\n",
       "       0.        , 0.        , 0.        , 0.        , 0.        ,\n",
       "       0.        , 0.        , 0.        , 0.        , 0.        ,\n",
       "       0.        , 0.13725491, 0.94509804, 0.88235295, 0.627451  ,\n",
       "       0.42352942, 0.00392157, 0.        , 0.        , 0.        ,\n",
       "       0.        , 0.        , 0.        , 0.        , 0.        ,\n",
       "       0.        , 0.        , 0.        , 0.        , 0.        ,\n",
       "       0.        , 0.        , 0.        , 0.        , 0.        ],\n",
       "      dtype=float32)"
      ]
     },
     "execution_count": 12,
     "metadata": {},
     "output_type": "execute_result"
    }
   ],
   "source": [
    "x_train[0, 300:400]"
   ]
  },
  {
   "cell_type": "code",
   "execution_count": 13,
   "metadata": {},
   "outputs": [],
   "source": [
    "# network parameters\n",
    "batch_size = 128\n",
    "hidden_units = 256\n",
    "dropout = 0.45"
   ]
  },
  {
   "cell_type": "code",
   "execution_count": 14,
   "metadata": {},
   "outputs": [
    {
     "name": "stdout",
     "output_type": "stream",
     "text": [
      "_________________________________________________________________\n",
      "Layer (type)                 Output Shape              Param #   \n",
      "=================================================================\n",
      "dense_1 (Dense)              (None, 256)               200960    \n",
      "_________________________________________________________________\n",
      "activation_1 (Activation)    (None, 256)               0         \n",
      "_________________________________________________________________\n",
      "dropout_1 (Dropout)          (None, 256)               0         \n",
      "_________________________________________________________________\n",
      "dense_2 (Dense)              (None, 256)               65792     \n",
      "_________________________________________________________________\n",
      "activation_2 (Activation)    (None, 256)               0         \n",
      "_________________________________________________________________\n",
      "dropout_2 (Dropout)          (None, 256)               0         \n",
      "_________________________________________________________________\n",
      "dense_3 (Dense)              (None, 10)                2570      \n",
      "_________________________________________________________________\n",
      "activation_3 (Activation)    (None, 10)                0         \n",
      "=================================================================\n",
      "Total params: 269,322\n",
      "Trainable params: 269,322\n",
      "Non-trainable params: 0\n",
      "_________________________________________________________________\n"
     ]
    }
   ],
   "source": [
    "# model is a 3-layer MLP with ReLU and dropout after each layer\n",
    "model = Sequential()\n",
    "model.add(Dense(hidden_units, input_dim=input_size))\n",
    "model.add(Activation('relu'))\n",
    "model.add(Dropout(dropout))\n",
    "model.add(Dense(hidden_units))\n",
    "model.add(Activation('relu'))\n",
    "model.add(Dropout(dropout))\n",
    "model.add(Dense(num_labels))\n",
    "# this is the output for one-hot vector\n",
    "model.add(Activation('softmax'))\n",
    "model.summary()\n",
    "# plot_model(model, to_file='mlp-mnist.png', show_shapes=True)"
   ]
  },
  {
   "cell_type": "code",
   "execution_count": 15,
   "metadata": {},
   "outputs": [
    {
     "data": {
      "image/svg+xml": [
       "<svg height=\"709pt\" viewBox=\"0.00 0.00 267.00 709.00\" width=\"267pt\" xmlns=\"http://www.w3.org/2000/svg\" xmlns:xlink=\"http://www.w3.org/1999/xlink\">\n",
       "<g class=\"graph\" id=\"graph0\" transform=\"scale(1 1) rotate(0) translate(4 705)\">\n",
       "<title>G</title>\n",
       "<polygon fill=\"white\" points=\"-4,4 -4,-705 263,-705 263,4 -4,4\" stroke=\"none\"/>\n",
       "<!-- 140043912949712 -->\n",
       "<g class=\"node\" id=\"node1\"><title>140043912949712</title>\n",
       "<polygon fill=\"none\" points=\"14.5,-581.5 14.5,-627.5 244.5,-627.5 244.5,-581.5 14.5,-581.5\" stroke=\"black\"/>\n",
       "<text font-family=\"Times,serif\" font-size=\"14.00\" text-anchor=\"middle\" x=\"45\" y=\"-600.8\">Dense</text>\n",
       "<polyline fill=\"none\" points=\"75.5,-581.5 75.5,-627.5 \" stroke=\"black\"/>\n",
       "<text font-family=\"Times,serif\" font-size=\"14.00\" text-anchor=\"middle\" x=\"109.5\" y=\"-612.3\">input:</text>\n",
       "<polyline fill=\"none\" points=\"75.5,-604.5 143.5,-604.5 \" stroke=\"black\"/>\n",
       "<text font-family=\"Times,serif\" font-size=\"14.00\" text-anchor=\"middle\" x=\"109.5\" y=\"-589.3\">output:</text>\n",
       "<polyline fill=\"none\" points=\"143.5,-581.5 143.5,-627.5 \" stroke=\"black\"/>\n",
       "<text font-family=\"Times,serif\" font-size=\"14.00\" text-anchor=\"middle\" x=\"194\" y=\"-612.3\">(None, 784)</text>\n",
       "<polyline fill=\"none\" points=\"143.5,-604.5 244.5,-604.5 \" stroke=\"black\"/>\n",
       "<text font-family=\"Times,serif\" font-size=\"14.00\" text-anchor=\"middle\" x=\"194\" y=\"-589.3\">(None, 256)</text>\n",
       "</g>\n",
       "<!-- 140043913040336 -->\n",
       "<g class=\"node\" id=\"node2\"><title>140043913040336</title>\n",
       "<polygon fill=\"none\" points=\"0,-498.5 0,-544.5 259,-544.5 259,-498.5 0,-498.5\" stroke=\"black\"/>\n",
       "<text font-family=\"Times,serif\" font-size=\"14.00\" text-anchor=\"middle\" x=\"45\" y=\"-517.8\">Activation</text>\n",
       "<polyline fill=\"none\" points=\"90,-498.5 90,-544.5 \" stroke=\"black\"/>\n",
       "<text font-family=\"Times,serif\" font-size=\"14.00\" text-anchor=\"middle\" x=\"124\" y=\"-529.3\">input:</text>\n",
       "<polyline fill=\"none\" points=\"90,-521.5 158,-521.5 \" stroke=\"black\"/>\n",
       "<text font-family=\"Times,serif\" font-size=\"14.00\" text-anchor=\"middle\" x=\"124\" y=\"-506.3\">output:</text>\n",
       "<polyline fill=\"none\" points=\"158,-498.5 158,-544.5 \" stroke=\"black\"/>\n",
       "<text font-family=\"Times,serif\" font-size=\"14.00\" text-anchor=\"middle\" x=\"208.5\" y=\"-529.3\">(None, 256)</text>\n",
       "<polyline fill=\"none\" points=\"158,-521.5 259,-521.5 \" stroke=\"black\"/>\n",
       "<text font-family=\"Times,serif\" font-size=\"14.00\" text-anchor=\"middle\" x=\"208.5\" y=\"-506.3\">(None, 256)</text>\n",
       "</g>\n",
       "<!-- 140043912949712&#45;&gt;140043913040336 -->\n",
       "<g class=\"edge\" id=\"edge2\"><title>140043912949712-&gt;140043913040336</title>\n",
       "<path d=\"M129.5,-581.366C129.5,-573.152 129.5,-563.658 129.5,-554.725\" fill=\"none\" stroke=\"black\"/>\n",
       "<polygon fill=\"black\" points=\"133,-554.607 129.5,-544.607 126,-554.607 133,-554.607\" stroke=\"black\"/>\n",
       "</g>\n",
       "<!-- 140043913041680 -->\n",
       "<g class=\"node\" id=\"node3\"><title>140043913041680</title>\n",
       "<polygon fill=\"none\" points=\"7.5,-415.5 7.5,-461.5 251.5,-461.5 251.5,-415.5 7.5,-415.5\" stroke=\"black\"/>\n",
       "<text font-family=\"Times,serif\" font-size=\"14.00\" text-anchor=\"middle\" x=\"45\" y=\"-434.8\">Dropout</text>\n",
       "<polyline fill=\"none\" points=\"82.5,-415.5 82.5,-461.5 \" stroke=\"black\"/>\n",
       "<text font-family=\"Times,serif\" font-size=\"14.00\" text-anchor=\"middle\" x=\"116.5\" y=\"-446.3\">input:</text>\n",
       "<polyline fill=\"none\" points=\"82.5,-438.5 150.5,-438.5 \" stroke=\"black\"/>\n",
       "<text font-family=\"Times,serif\" font-size=\"14.00\" text-anchor=\"middle\" x=\"116.5\" y=\"-423.3\">output:</text>\n",
       "<polyline fill=\"none\" points=\"150.5,-415.5 150.5,-461.5 \" stroke=\"black\"/>\n",
       "<text font-family=\"Times,serif\" font-size=\"14.00\" text-anchor=\"middle\" x=\"201\" y=\"-446.3\">(None, 256)</text>\n",
       "<polyline fill=\"none\" points=\"150.5,-438.5 251.5,-438.5 \" stroke=\"black\"/>\n",
       "<text font-family=\"Times,serif\" font-size=\"14.00\" text-anchor=\"middle\" x=\"201\" y=\"-423.3\">(None, 256)</text>\n",
       "</g>\n",
       "<!-- 140043913040336&#45;&gt;140043913041680 -->\n",
       "<g class=\"edge\" id=\"edge3\"><title>140043913040336-&gt;140043913041680</title>\n",
       "<path d=\"M129.5,-498.366C129.5,-490.152 129.5,-480.658 129.5,-471.725\" fill=\"none\" stroke=\"black\"/>\n",
       "<polygon fill=\"black\" points=\"133,-471.607 129.5,-461.607 126,-471.607 133,-471.607\" stroke=\"black\"/>\n",
       "</g>\n",
       "<!-- 140043913043024 -->\n",
       "<g class=\"node\" id=\"node4\"><title>140043913043024</title>\n",
       "<polygon fill=\"none\" points=\"14.5,-332.5 14.5,-378.5 244.5,-378.5 244.5,-332.5 14.5,-332.5\" stroke=\"black\"/>\n",
       "<text font-family=\"Times,serif\" font-size=\"14.00\" text-anchor=\"middle\" x=\"45\" y=\"-351.8\">Dense</text>\n",
       "<polyline fill=\"none\" points=\"75.5,-332.5 75.5,-378.5 \" stroke=\"black\"/>\n",
       "<text font-family=\"Times,serif\" font-size=\"14.00\" text-anchor=\"middle\" x=\"109.5\" y=\"-363.3\">input:</text>\n",
       "<polyline fill=\"none\" points=\"75.5,-355.5 143.5,-355.5 \" stroke=\"black\"/>\n",
       "<text font-family=\"Times,serif\" font-size=\"14.00\" text-anchor=\"middle\" x=\"109.5\" y=\"-340.3\">output:</text>\n",
       "<polyline fill=\"none\" points=\"143.5,-332.5 143.5,-378.5 \" stroke=\"black\"/>\n",
       "<text font-family=\"Times,serif\" font-size=\"14.00\" text-anchor=\"middle\" x=\"194\" y=\"-363.3\">(None, 256)</text>\n",
       "<polyline fill=\"none\" points=\"143.5,-355.5 244.5,-355.5 \" stroke=\"black\"/>\n",
       "<text font-family=\"Times,serif\" font-size=\"14.00\" text-anchor=\"middle\" x=\"194\" y=\"-340.3\">(None, 256)</text>\n",
       "</g>\n",
       "<!-- 140043913041680&#45;&gt;140043913043024 -->\n",
       "<g class=\"edge\" id=\"edge4\"><title>140043913041680-&gt;140043913043024</title>\n",
       "<path d=\"M129.5,-415.366C129.5,-407.152 129.5,-397.658 129.5,-388.725\" fill=\"none\" stroke=\"black\"/>\n",
       "<polygon fill=\"black\" points=\"133,-388.607 129.5,-378.607 126,-388.607 133,-388.607\" stroke=\"black\"/>\n",
       "</g>\n",
       "<!-- 140043913041176 -->\n",
       "<g class=\"node\" id=\"node5\"><title>140043913041176</title>\n",
       "<polygon fill=\"none\" points=\"0,-249.5 0,-295.5 259,-295.5 259,-249.5 0,-249.5\" stroke=\"black\"/>\n",
       "<text font-family=\"Times,serif\" font-size=\"14.00\" text-anchor=\"middle\" x=\"45\" y=\"-268.8\">Activation</text>\n",
       "<polyline fill=\"none\" points=\"90,-249.5 90,-295.5 \" stroke=\"black\"/>\n",
       "<text font-family=\"Times,serif\" font-size=\"14.00\" text-anchor=\"middle\" x=\"124\" y=\"-280.3\">input:</text>\n",
       "<polyline fill=\"none\" points=\"90,-272.5 158,-272.5 \" stroke=\"black\"/>\n",
       "<text font-family=\"Times,serif\" font-size=\"14.00\" text-anchor=\"middle\" x=\"124\" y=\"-257.3\">output:</text>\n",
       "<polyline fill=\"none\" points=\"158,-249.5 158,-295.5 \" stroke=\"black\"/>\n",
       "<text font-family=\"Times,serif\" font-size=\"14.00\" text-anchor=\"middle\" x=\"208.5\" y=\"-280.3\">(None, 256)</text>\n",
       "<polyline fill=\"none\" points=\"158,-272.5 259,-272.5 \" stroke=\"black\"/>\n",
       "<text font-family=\"Times,serif\" font-size=\"14.00\" text-anchor=\"middle\" x=\"208.5\" y=\"-257.3\">(None, 256)</text>\n",
       "</g>\n",
       "<!-- 140043913043024&#45;&gt;140043913041176 -->\n",
       "<g class=\"edge\" id=\"edge5\"><title>140043913043024-&gt;140043913041176</title>\n",
       "<path d=\"M129.5,-332.366C129.5,-324.152 129.5,-314.658 129.5,-305.725\" fill=\"none\" stroke=\"black\"/>\n",
       "<polygon fill=\"black\" points=\"133,-305.607 129.5,-295.607 126,-305.607 133,-305.607\" stroke=\"black\"/>\n",
       "</g>\n",
       "<!-- 140043881311256 -->\n",
       "<g class=\"node\" id=\"node6\"><title>140043881311256</title>\n",
       "<polygon fill=\"none\" points=\"7.5,-166.5 7.5,-212.5 251.5,-212.5 251.5,-166.5 7.5,-166.5\" stroke=\"black\"/>\n",
       "<text font-family=\"Times,serif\" font-size=\"14.00\" text-anchor=\"middle\" x=\"45\" y=\"-185.8\">Dropout</text>\n",
       "<polyline fill=\"none\" points=\"82.5,-166.5 82.5,-212.5 \" stroke=\"black\"/>\n",
       "<text font-family=\"Times,serif\" font-size=\"14.00\" text-anchor=\"middle\" x=\"116.5\" y=\"-197.3\">input:</text>\n",
       "<polyline fill=\"none\" points=\"82.5,-189.5 150.5,-189.5 \" stroke=\"black\"/>\n",
       "<text font-family=\"Times,serif\" font-size=\"14.00\" text-anchor=\"middle\" x=\"116.5\" y=\"-174.3\">output:</text>\n",
       "<polyline fill=\"none\" points=\"150.5,-166.5 150.5,-212.5 \" stroke=\"black\"/>\n",
       "<text font-family=\"Times,serif\" font-size=\"14.00\" text-anchor=\"middle\" x=\"201\" y=\"-197.3\">(None, 256)</text>\n",
       "<polyline fill=\"none\" points=\"150.5,-189.5 251.5,-189.5 \" stroke=\"black\"/>\n",
       "<text font-family=\"Times,serif\" font-size=\"14.00\" text-anchor=\"middle\" x=\"201\" y=\"-174.3\">(None, 256)</text>\n",
       "</g>\n",
       "<!-- 140043913041176&#45;&gt;140043881311256 -->\n",
       "<g class=\"edge\" id=\"edge6\"><title>140043913041176-&gt;140043881311256</title>\n",
       "<path d=\"M129.5,-249.366C129.5,-241.152 129.5,-231.658 129.5,-222.725\" fill=\"none\" stroke=\"black\"/>\n",
       "<polygon fill=\"black\" points=\"133,-222.607 129.5,-212.607 126,-222.607 133,-222.607\" stroke=\"black\"/>\n",
       "</g>\n",
       "<!-- 140043881309576 -->\n",
       "<g class=\"node\" id=\"node7\"><title>140043881309576</title>\n",
       "<polygon fill=\"none\" points=\"14.5,-83.5 14.5,-129.5 244.5,-129.5 244.5,-83.5 14.5,-83.5\" stroke=\"black\"/>\n",
       "<text font-family=\"Times,serif\" font-size=\"14.00\" text-anchor=\"middle\" x=\"45\" y=\"-102.8\">Dense</text>\n",
       "<polyline fill=\"none\" points=\"75.5,-83.5 75.5,-129.5 \" stroke=\"black\"/>\n",
       "<text font-family=\"Times,serif\" font-size=\"14.00\" text-anchor=\"middle\" x=\"109.5\" y=\"-114.3\">input:</text>\n",
       "<polyline fill=\"none\" points=\"75.5,-106.5 143.5,-106.5 \" stroke=\"black\"/>\n",
       "<text font-family=\"Times,serif\" font-size=\"14.00\" text-anchor=\"middle\" x=\"109.5\" y=\"-91.3\">output:</text>\n",
       "<polyline fill=\"none\" points=\"143.5,-83.5 143.5,-129.5 \" stroke=\"black\"/>\n",
       "<text font-family=\"Times,serif\" font-size=\"14.00\" text-anchor=\"middle\" x=\"194\" y=\"-114.3\">(None, 256)</text>\n",
       "<polyline fill=\"none\" points=\"143.5,-106.5 244.5,-106.5 \" stroke=\"black\"/>\n",
       "<text font-family=\"Times,serif\" font-size=\"14.00\" text-anchor=\"middle\" x=\"194\" y=\"-91.3\">(None, 10)</text>\n",
       "</g>\n",
       "<!-- 140043881311256&#45;&gt;140043881309576 -->\n",
       "<g class=\"edge\" id=\"edge7\"><title>140043881311256-&gt;140043881309576</title>\n",
       "<path d=\"M129.5,-166.366C129.5,-158.152 129.5,-148.658 129.5,-139.725\" fill=\"none\" stroke=\"black\"/>\n",
       "<polygon fill=\"black\" points=\"133,-139.607 129.5,-129.607 126,-139.607 133,-139.607\" stroke=\"black\"/>\n",
       "</g>\n",
       "<!-- 140047203607104 -->\n",
       "<g class=\"node\" id=\"node8\"><title>140047203607104</title>\n",
       "<polygon fill=\"none\" points=\"4.5,-0.5 4.5,-46.5 254.5,-46.5 254.5,-0.5 4.5,-0.5\" stroke=\"black\"/>\n",
       "<text font-family=\"Times,serif\" font-size=\"14.00\" text-anchor=\"middle\" x=\"49.5\" y=\"-19.8\">Activation</text>\n",
       "<polyline fill=\"none\" points=\"94.5,-0.5 94.5,-46.5 \" stroke=\"black\"/>\n",
       "<text font-family=\"Times,serif\" font-size=\"14.00\" text-anchor=\"middle\" x=\"128.5\" y=\"-31.3\">input:</text>\n",
       "<polyline fill=\"none\" points=\"94.5,-23.5 162.5,-23.5 \" stroke=\"black\"/>\n",
       "<text font-family=\"Times,serif\" font-size=\"14.00\" text-anchor=\"middle\" x=\"128.5\" y=\"-8.3\">output:</text>\n",
       "<polyline fill=\"none\" points=\"162.5,-0.5 162.5,-46.5 \" stroke=\"black\"/>\n",
       "<text font-family=\"Times,serif\" font-size=\"14.00\" text-anchor=\"middle\" x=\"208.5\" y=\"-31.3\">(None, 10)</text>\n",
       "<polyline fill=\"none\" points=\"162.5,-23.5 254.5,-23.5 \" stroke=\"black\"/>\n",
       "<text font-family=\"Times,serif\" font-size=\"14.00\" text-anchor=\"middle\" x=\"208.5\" y=\"-8.3\">(None, 10)</text>\n",
       "</g>\n",
       "<!-- 140043881309576&#45;&gt;140047203607104 -->\n",
       "<g class=\"edge\" id=\"edge8\"><title>140043881309576-&gt;140047203607104</title>\n",
       "<path d=\"M129.5,-83.3664C129.5,-75.1516 129.5,-65.6579 129.5,-56.7252\" fill=\"none\" stroke=\"black\"/>\n",
       "<polygon fill=\"black\" points=\"133,-56.6068 129.5,-46.6068 126,-56.6069 133,-56.6068\" stroke=\"black\"/>\n",
       "</g>\n",
       "<!-- 140043913040784 -->\n",
       "<g class=\"node\" id=\"node9\"><title>140043913040784</title>\n",
       "<polygon fill=\"none\" points=\"53.5,-664.5 53.5,-700.5 205.5,-700.5 205.5,-664.5 53.5,-664.5\" stroke=\"black\"/>\n",
       "<text font-family=\"Times,serif\" font-size=\"14.00\" text-anchor=\"middle\" x=\"129.5\" y=\"-678.8\">140043913040784</text>\n",
       "</g>\n",
       "<!-- 140043913040784&#45;&gt;140043912949712 -->\n",
       "<g class=\"edge\" id=\"edge1\"><title>140043913040784-&gt;140043912949712</title>\n",
       "<path d=\"M129.5,-664.254C129.5,-656.363 129.5,-646.749 129.5,-637.602\" fill=\"none\" stroke=\"black\"/>\n",
       "<polygon fill=\"black\" points=\"133,-637.591 129.5,-627.591 126,-637.591 133,-637.591\" stroke=\"black\"/>\n",
       "</g>\n",
       "</g>\n",
       "</svg>"
      ],
      "text/plain": [
       "<IPython.core.display.SVG object>"
      ]
     },
     "execution_count": 15,
     "metadata": {},
     "output_type": "execute_result"
    }
   ],
   "source": [
    "from IPython.display import SVG\n",
    "\n",
    "from keras.utils.vis_utils import model_to_dot\n",
    "\n",
    "\n",
    "\n",
    "def plot_keras_model(model,\n",
    "\n",
    "                     show_shapes=True,\n",
    "\n",
    "                     show_layer_names=True):\n",
    "\n",
    "    return SVG(model_to_dot(model,\n",
    "\n",
    "                            show_shapes=show_shapes,\n",
    "\n",
    "                            show_layer_names=show_layer_names).create(prog='dot',format='svg'))\n",
    "\n",
    "\n",
    "\n",
    "plot_keras_model(model, show_shapes=True, show_layer_names=False)"
   ]
  },
  {
   "cell_type": "code",
   "execution_count": 16,
   "metadata": {},
   "outputs": [],
   "source": [
    "# loss function for one-hot vector\n",
    "# use of adam optimizer\n",
    "# accuracy is good metric for classification tasks\n",
    "model.compile(loss='categorical_crossentropy',\n",
    "              optimizer='adam',\n",
    "              metrics=['accuracy'])"
   ]
  },
  {
   "cell_type": "code",
   "execution_count": 17,
   "metadata": {},
   "outputs": [
    {
     "name": "stdout",
     "output_type": "stream",
     "text": [
      "Epoch 1/20\n",
      "60000/60000 [==============================] - 4s 72us/step - loss: 0.4272 - acc: 0.8698\n",
      "Epoch 2/20\n",
      "60000/60000 [==============================] - 2s 40us/step - loss: 0.1967 - acc: 0.9415\n",
      "Epoch 3/20\n",
      "60000/60000 [==============================] - 2s 39us/step - loss: 0.1511 - acc: 0.9548\n",
      "Epoch 4/20\n",
      "60000/60000 [==============================] - 2s 39us/step - loss: 0.1297 - acc: 0.9613\n",
      "Epoch 5/20\n",
      "60000/60000 [==============================] - 2s 39us/step - loss: 0.1167 - acc: 0.9646\n",
      "Epoch 6/20\n",
      "60000/60000 [==============================] - 2s 39us/step - loss: 0.1021 - acc: 0.9689\n",
      "Epoch 7/20\n",
      "60000/60000 [==============================] - 2s 39us/step - loss: 0.0949 - acc: 0.9696\n",
      "Epoch 8/20\n",
      "60000/60000 [==============================] - 2s 39us/step - loss: 0.0875 - acc: 0.9726\n",
      "Epoch 9/20\n",
      "60000/60000 [==============================] - 2s 39us/step - loss: 0.0815 - acc: 0.9749\n",
      "Epoch 10/20\n",
      "60000/60000 [==============================] - 2s 39us/step - loss: 0.0761 - acc: 0.9755\n",
      "Epoch 11/20\n",
      "60000/60000 [==============================] - 2s 39us/step - loss: 0.0737 - acc: 0.9761\n",
      "Epoch 12/20\n",
      "60000/60000 [==============================] - 2s 39us/step - loss: 0.0708 - acc: 0.9775\n",
      "Epoch 13/20\n",
      "60000/60000 [==============================] - 2s 40us/step - loss: 0.0679 - acc: 0.9785\n",
      "Epoch 14/20\n",
      "60000/60000 [==============================] - 2s 39us/step - loss: 0.0622 - acc: 0.9797\n",
      "Epoch 15/20\n",
      "60000/60000 [==============================] - 3s 42us/step - loss: 0.0657 - acc: 0.9789\n",
      "Epoch 16/20\n",
      "60000/60000 [==============================] - 2s 40us/step - loss: 0.0602 - acc: 0.9808\n",
      "Epoch 17/20\n",
      "60000/60000 [==============================] - 2s 40us/step - loss: 0.0590 - acc: 0.9806\n",
      "Epoch 18/20\n",
      "60000/60000 [==============================] - 2s 39us/step - loss: 0.0572 - acc: 0.9817\n",
      "Epoch 19/20\n",
      "60000/60000 [==============================] - 2s 40us/step - loss: 0.0541 - acc: 0.9818\n",
      "Epoch 20/20\n",
      "60000/60000 [==============================] - 2s 40us/step - loss: 0.0545 - acc: 0.9824\n"
     ]
    },
    {
     "data": {
      "text/plain": [
       "<keras.callbacks.History at 0x7f5e83af25f8>"
      ]
     },
     "execution_count": 17,
     "metadata": {},
     "output_type": "execute_result"
    }
   ],
   "source": [
    "# train\n",
    "# train the network\n",
    "model.fit(x_train, y_train, epochs=20, batch_size=batch_size)"
   ]
  },
  {
   "cell_type": "code",
   "execution_count": 18,
   "metadata": {},
   "outputs": [
    {
     "name": "stdout",
     "output_type": "stream",
     "text": [
      "10000/10000 [==============================] - 0s 20us/step\n",
      "\n",
      "Test accuracy: 98.3%\n"
     ]
    }
   ],
   "source": [
    "# validate the model on test dataset to determine generalization\n",
    "loss, acc = model.evaluate(x_test, y_test, batch_size=batch_size)\n",
    "print(\"\\nTest accuracy: %.1f%%\" % (100.0 * acc))"
   ]
  },
  {
   "cell_type": "code",
   "execution_count": null,
   "metadata": {},
   "outputs": [],
   "source": []
  }
 ],
 "metadata": {
  "kernelspec": {
   "display_name": "Python 3",
   "language": "python",
   "name": "python3"
  },
  "language_info": {
   "codemirror_mode": {
    "name": "ipython",
    "version": 3
   },
   "file_extension": ".py",
   "mimetype": "text/x-python",
   "name": "python",
   "nbconvert_exporter": "python",
   "pygments_lexer": "ipython3",
   "version": "3.6.6"
  }
 },
 "nbformat": 4,
 "nbformat_minor": 2
}
