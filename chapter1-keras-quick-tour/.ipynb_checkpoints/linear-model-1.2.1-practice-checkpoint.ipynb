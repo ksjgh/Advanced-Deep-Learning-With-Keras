{
 "cells": [
  {
   "cell_type": "code",
   "execution_count": 19,
   "metadata": {},
   "outputs": [],
   "source": [
    "'''A simple MLP in Keras implementing linear regression.\n",
    "'''\n",
    "\n",
    "from __future__ import absolute_import\n",
    "from __future__ import division\n",
    "from __future__ import print_function\n",
    "\n",
    "# numpy package\n",
    "import numpy as np\n",
    "\n",
    "# keras modules\n",
    "import keras\n",
    "from keras.models import Sequential\n",
    "from keras.layers import Dense\n",
    "from keras.utils import plot_model"
   ]
  },
  {
   "cell_type": "code",
   "execution_count": 2,
   "metadata": {},
   "outputs": [],
   "source": [
    "# generate x data\n",
    "x = np.arange(-1,1,0.2)"
   ]
  },
  {
   "cell_type": "code",
   "execution_count": 3,
   "metadata": {},
   "outputs": [
    {
     "data": {
      "text/plain": [
       "(10,)"
      ]
     },
     "execution_count": 3,
     "metadata": {},
     "output_type": "execute_result"
    }
   ],
   "source": [
    "x.shape"
   ]
  },
  {
   "cell_type": "code",
   "execution_count": 4,
   "metadata": {},
   "outputs": [],
   "source": [
    "x = np.reshape(x, [-1,1])"
   ]
  },
  {
   "cell_type": "code",
   "execution_count": 5,
   "metadata": {},
   "outputs": [
    {
     "data": {
      "text/plain": [
       "(10, 1)"
      ]
     },
     "execution_count": 5,
     "metadata": {},
     "output_type": "execute_result"
    }
   ],
   "source": [
    "x.shape"
   ]
  },
  {
   "cell_type": "code",
   "execution_count": 6,
   "metadata": {},
   "outputs": [],
   "source": [
    "# generate y data\n",
    "y = 2 * x + 3\n",
    "\n",
    "# True if noise is added to y\n",
    "is_noisy = True\n",
    "\n",
    "# add noise if enabled\n",
    "if is_noisy:\n",
    "    noise = np.random.uniform(-0.1, 0.1, x.shape)\n",
    "    x = x + noise"
   ]
  },
  {
   "cell_type": "code",
   "execution_count": 8,
   "metadata": {},
   "outputs": [
    {
     "name": "stdout",
     "output_type": "stream",
     "text": [
      "_________________________________________________________________\n",
      "Layer (type)                 Output Shape              Param #   \n",
      "=================================================================\n",
      "dense_1 (Dense)              (None, 8)                 16        \n",
      "_________________________________________________________________\n",
      "dense_2 (Dense)              (None, 1)                 9         \n",
      "=================================================================\n",
      "Total params: 25\n",
      "Trainable params: 25\n",
      "Non-trainable params: 0\n",
      "_________________________________________________________________\n"
     ]
    }
   ],
   "source": [
    "# deep learning method\n",
    "# build 2-layer MLP network\n",
    "\n",
    "model = Sequential()\n",
    "# 1st MLP has 8 units (perceptron), input is 1-dim\n",
    "model.add(Dense(units=8, input_dim=1))\n",
    "# 2nd MLP has 1 unit, output is 1-dim\n",
    "model.add(Dense(units=1))\n",
    "# print summary to double check the network\n",
    "model.summary()"
   ]
  },
  {
   "cell_type": "code",
   "execution_count": 10,
   "metadata": {},
   "outputs": [
    {
     "data": {
      "image/svg+xml": [
       "<svg height=\"211pt\" viewBox=\"0.00 0.00 220.00 211.00\" width=\"220pt\" xmlns=\"http://www.w3.org/2000/svg\" xmlns:xlink=\"http://www.w3.org/1999/xlink\">\n",
       "<g class=\"graph\" id=\"graph0\" transform=\"scale(1 1) rotate(0) translate(4 207)\">\n",
       "<title>G</title>\n",
       "<polygon fill=\"white\" points=\"-4,4 -4,-207 216,-207 216,4 -4,4\" stroke=\"none\"/>\n",
       "<!-- 140083828938344 -->\n",
       "<g class=\"node\" id=\"node1\"><title>140083828938344</title>\n",
       "<polygon fill=\"none\" points=\"-1.42109e-14,-83.5 -1.42109e-14,-129.5 212,-129.5 212,-83.5 -1.42109e-14,-83.5\" stroke=\"black\"/>\n",
       "<text font-family=\"Times,serif\" font-size=\"14.00\" text-anchor=\"middle\" x=\"30.5\" y=\"-102.8\">Dense</text>\n",
       "<polyline fill=\"none\" points=\"61,-83.5 61,-129.5 \" stroke=\"black\"/>\n",
       "<text font-family=\"Times,serif\" font-size=\"14.00\" text-anchor=\"middle\" x=\"95\" y=\"-114.3\">input:</text>\n",
       "<polyline fill=\"none\" points=\"61,-106.5 129,-106.5 \" stroke=\"black\"/>\n",
       "<text font-family=\"Times,serif\" font-size=\"14.00\" text-anchor=\"middle\" x=\"95\" y=\"-91.3\">output:</text>\n",
       "<polyline fill=\"none\" points=\"129,-83.5 129,-129.5 \" stroke=\"black\"/>\n",
       "<text font-family=\"Times,serif\" font-size=\"14.00\" text-anchor=\"middle\" x=\"170.5\" y=\"-114.3\">(None, 1)</text>\n",
       "<polyline fill=\"none\" points=\"129,-106.5 212,-106.5 \" stroke=\"black\"/>\n",
       "<text font-family=\"Times,serif\" font-size=\"14.00\" text-anchor=\"middle\" x=\"170.5\" y=\"-91.3\">(None, 8)</text>\n",
       "</g>\n",
       "<!-- 140083828938568 -->\n",
       "<g class=\"node\" id=\"node2\"><title>140083828938568</title>\n",
       "<polygon fill=\"none\" points=\"-1.42109e-14,-0.5 -1.42109e-14,-46.5 212,-46.5 212,-0.5 -1.42109e-14,-0.5\" stroke=\"black\"/>\n",
       "<text font-family=\"Times,serif\" font-size=\"14.00\" text-anchor=\"middle\" x=\"30.5\" y=\"-19.8\">Dense</text>\n",
       "<polyline fill=\"none\" points=\"61,-0.5 61,-46.5 \" stroke=\"black\"/>\n",
       "<text font-family=\"Times,serif\" font-size=\"14.00\" text-anchor=\"middle\" x=\"95\" y=\"-31.3\">input:</text>\n",
       "<polyline fill=\"none\" points=\"61,-23.5 129,-23.5 \" stroke=\"black\"/>\n",
       "<text font-family=\"Times,serif\" font-size=\"14.00\" text-anchor=\"middle\" x=\"95\" y=\"-8.3\">output:</text>\n",
       "<polyline fill=\"none\" points=\"129,-0.5 129,-46.5 \" stroke=\"black\"/>\n",
       "<text font-family=\"Times,serif\" font-size=\"14.00\" text-anchor=\"middle\" x=\"170.5\" y=\"-31.3\">(None, 8)</text>\n",
       "<polyline fill=\"none\" points=\"129,-23.5 212,-23.5 \" stroke=\"black\"/>\n",
       "<text font-family=\"Times,serif\" font-size=\"14.00\" text-anchor=\"middle\" x=\"170.5\" y=\"-8.3\">(None, 1)</text>\n",
       "</g>\n",
       "<!-- 140083828938344&#45;&gt;140083828938568 -->\n",
       "<g class=\"edge\" id=\"edge2\"><title>140083828938344-&gt;140083828938568</title>\n",
       "<path d=\"M106,-83.3664C106,-75.1516 106,-65.6579 106,-56.7252\" fill=\"none\" stroke=\"black\"/>\n",
       "<polygon fill=\"black\" points=\"109.5,-56.6068 106,-46.6068 102.5,-56.6069 109.5,-56.6068\" stroke=\"black\"/>\n",
       "</g>\n",
       "<!-- 140083828938904 -->\n",
       "<g class=\"node\" id=\"node3\"><title>140083828938904</title>\n",
       "<polygon fill=\"none\" points=\"30,-166.5 30,-202.5 182,-202.5 182,-166.5 30,-166.5\" stroke=\"black\"/>\n",
       "<text font-family=\"Times,serif\" font-size=\"14.00\" text-anchor=\"middle\" x=\"106\" y=\"-180.8\">140083828938904</text>\n",
       "</g>\n",
       "<!-- 140083828938904&#45;&gt;140083828938344 -->\n",
       "<g class=\"edge\" id=\"edge1\"><title>140083828938904-&gt;140083828938344</title>\n",
       "<path d=\"M106,-166.254C106,-158.363 106,-148.749 106,-139.602\" fill=\"none\" stroke=\"black\"/>\n",
       "<polygon fill=\"black\" points=\"109.5,-139.591 106,-129.591 102.5,-139.591 109.5,-139.591\" stroke=\"black\"/>\n",
       "</g>\n",
       "</g>\n",
       "</svg>"
      ],
      "text/plain": [
       "<IPython.core.display.SVG object>"
      ]
     },
     "execution_count": 10,
     "metadata": {},
     "output_type": "execute_result"
    }
   ],
   "source": [
    "# create a nice image of the network model\n",
    "\n",
    "# save to file\n",
    "# plot_model(model, to_file='linear-model.png', show_shapes=True)\n",
    "\n",
    "# or To jupyter notebook\n",
    "from IPython.display import SVG\n",
    "from keras.utils.vis_utils import model_to_dot\n",
    "\n",
    "def plot_keras_model(model,\n",
    "                     show_shapes=True,\n",
    "                     show_layer_names=True):\n",
    "    return SVG(model_to_dot(model,\n",
    "                            show_shapes=show_shapes,\n",
    "                            show_layer_names=show_layer_names).create(prog='dot',format='svg'))\n",
    "\n",
    "plot_keras_model(model, show_shapes=True, show_layer_names=False)"
   ]
  },
  {
   "cell_type": "code",
   "execution_count": 11,
   "metadata": {},
   "outputs": [
    {
     "name": "stdout",
     "output_type": "stream",
     "text": [
      "Epoch 1/100\n",
      "10/10 [==============================] - 0s 781us/step - loss: 8.5327\n",
      "Epoch 2/100\n",
      "10/10 [==============================] - 0s 258us/step - loss: 6.6604\n",
      "Epoch 3/100\n",
      "10/10 [==============================] - 0s 234us/step - loss: 5.1774\n",
      "Epoch 4/100\n",
      "10/10 [==============================] - 0s 240us/step - loss: 3.9312\n",
      "Epoch 5/100\n",
      "10/10 [==============================] - 0s 243us/step - loss: 2.9149\n",
      "Epoch 6/100\n",
      "10/10 [==============================] - 0s 249us/step - loss: 2.0384\n",
      "Epoch 7/100\n",
      "10/10 [==============================] - 0s 271us/step - loss: 1.3765\n",
      "Epoch 8/100\n",
      "10/10 [==============================] - 0s 270us/step - loss: 0.9257\n",
      "Epoch 9/100\n",
      "10/10 [==============================] - 0s 287us/step - loss: 0.5950\n",
      "Epoch 10/100\n",
      "10/10 [==============================] - 0s 258us/step - loss: 0.3998\n",
      "Epoch 11/100\n",
      "10/10 [==============================] - 0s 253us/step - loss: 0.2701\n",
      "Epoch 12/100\n",
      "10/10 [==============================] - 0s 242us/step - loss: 0.1646\n",
      "Epoch 13/100\n",
      "10/10 [==============================] - 0s 266us/step - loss: 0.1056\n",
      "Epoch 14/100\n",
      "10/10 [==============================] - 0s 274us/step - loss: 0.0708\n",
      "Epoch 15/100\n",
      "10/10 [==============================] - 0s 264us/step - loss: 0.0530\n",
      "Epoch 16/100\n",
      "10/10 [==============================] - 0s 272us/step - loss: 0.0426\n",
      "Epoch 17/100\n",
      "10/10 [==============================] - 0s 257us/step - loss: 0.0346\n",
      "Epoch 18/100\n",
      "10/10 [==============================] - 0s 275us/step - loss: 0.0292\n",
      "Epoch 19/100\n",
      "10/10 [==============================] - 0s 270us/step - loss: 0.0244\n",
      "Epoch 20/100\n",
      "10/10 [==============================] - 0s 277us/step - loss: 0.0222\n",
      "Epoch 21/100\n",
      "10/10 [==============================] - 0s 250us/step - loss: 0.0189\n",
      "Epoch 22/100\n",
      "10/10 [==============================] - 0s 246us/step - loss: 0.0166\n",
      "Epoch 23/100\n",
      "10/10 [==============================] - 0s 241us/step - loss: 0.0146\n",
      "Epoch 24/100\n",
      "10/10 [==============================] - 0s 267us/step - loss: 0.0129\n",
      "Epoch 25/100\n",
      "10/10 [==============================] - 0s 272us/step - loss: 0.0117\n",
      "Epoch 26/100\n",
      "10/10 [==============================] - 0s 282us/step - loss: 0.0109\n",
      "Epoch 27/100\n",
      "10/10 [==============================] - 0s 252us/step - loss: 0.0105\n",
      "Epoch 28/100\n",
      "10/10 [==============================] - 0s 239us/step - loss: 0.0096\n",
      "Epoch 29/100\n",
      "10/10 [==============================] - 0s 240us/step - loss: 0.0095\n",
      "Epoch 30/100\n",
      "10/10 [==============================] - 0s 240us/step - loss: 0.0086\n",
      "Epoch 31/100\n",
      "10/10 [==============================] - 0s 242us/step - loss: 0.0084\n",
      "Epoch 32/100\n",
      "10/10 [==============================] - 0s 264us/step - loss: 0.0080\n",
      "Epoch 33/100\n",
      "10/10 [==============================] - 0s 255us/step - loss: 0.0081\n",
      "Epoch 34/100\n",
      "10/10 [==============================] - 0s 263us/step - loss: 0.0077\n",
      "Epoch 35/100\n",
      "10/10 [==============================] - 0s 278us/step - loss: 0.0075\n",
      "Epoch 36/100\n",
      "10/10 [==============================] - 0s 273us/step - loss: 0.0074\n",
      "Epoch 37/100\n",
      "10/10 [==============================] - 0s 265us/step - loss: 0.0075\n",
      "Epoch 38/100\n",
      "10/10 [==============================] - 0s 272us/step - loss: 0.0071\n",
      "Epoch 39/100\n",
      "10/10 [==============================] - 0s 245us/step - loss: 0.0071\n",
      "Epoch 40/100\n",
      "10/10 [==============================] - 0s 270us/step - loss: 0.0071\n",
      "Epoch 41/100\n",
      "10/10 [==============================] - 0s 252us/step - loss: 0.0072\n",
      "Epoch 42/100\n",
      "10/10 [==============================] - 0s 255us/step - loss: 0.0073\n",
      "Epoch 43/100\n",
      "10/10 [==============================] - 0s 242us/step - loss: 0.0070\n",
      "Epoch 44/100\n",
      "10/10 [==============================] - 0s 274us/step - loss: 0.0070\n",
      "Epoch 45/100\n",
      "10/10 [==============================] - 0s 293us/step - loss: 0.0071\n",
      "Epoch 46/100\n",
      "10/10 [==============================] - 0s 290us/step - loss: 0.0070\n",
      "Epoch 47/100\n",
      "10/10 [==============================] - 0s 275us/step - loss: 0.0070\n",
      "Epoch 48/100\n",
      "10/10 [==============================] - 0s 263us/step - loss: 0.0070\n",
      "Epoch 49/100\n",
      "10/10 [==============================] - 0s 231us/step - loss: 0.0071\n",
      "Epoch 50/100\n",
      "10/10 [==============================] - 0s 250us/step - loss: 0.0069\n",
      "Epoch 51/100\n",
      "10/10 [==============================] - 0s 256us/step - loss: 0.0069\n",
      "Epoch 52/100\n",
      "10/10 [==============================] - 0s 232us/step - loss: 0.0070\n",
      "Epoch 53/100\n",
      "10/10 [==============================] - 0s 900us/step - loss: 0.0070\n",
      "Epoch 54/100\n",
      "10/10 [==============================] - 0s 230us/step - loss: 0.0069\n",
      "Epoch 55/100\n",
      "10/10 [==============================] - 0s 418us/step - loss: 0.0069\n",
      "Epoch 56/100\n",
      "10/10 [==============================] - 0s 216us/step - loss: 0.0071\n",
      "Epoch 57/100\n",
      "10/10 [==============================] - 0s 252us/step - loss: 0.0069\n",
      "Epoch 58/100\n",
      "10/10 [==============================] - 0s 219us/step - loss: 0.0069\n",
      "Epoch 59/100\n",
      "10/10 [==============================] - 0s 251us/step - loss: 0.0069\n",
      "Epoch 60/100\n",
      "10/10 [==============================] - 0s 226us/step - loss: 0.0070\n",
      "Epoch 61/100\n",
      "10/10 [==============================] - 0s 269us/step - loss: 0.0071\n",
      "Epoch 62/100\n",
      "10/10 [==============================] - 0s 186us/step - loss: 0.0069\n",
      "Epoch 63/100\n",
      "10/10 [==============================] - 0s 201us/step - loss: 0.0069\n",
      "Epoch 64/100\n",
      "10/10 [==============================] - 0s 222us/step - loss: 0.0071\n",
      "Epoch 65/100\n",
      "10/10 [==============================] - 0s 459us/step - loss: 0.0072\n",
      "Epoch 66/100\n",
      "10/10 [==============================] - 0s 279us/step - loss: 0.0069\n",
      "Epoch 67/100\n",
      "10/10 [==============================] - 0s 250us/step - loss: 0.0071\n",
      "Epoch 68/100\n",
      "10/10 [==============================] - 0s 249us/step - loss: 0.0069\n",
      "Epoch 69/100\n",
      "10/10 [==============================] - 0s 263us/step - loss: 0.0068\n",
      "Epoch 70/100\n",
      "10/10 [==============================] - 0s 238us/step - loss: 0.0069\n",
      "Epoch 71/100\n",
      "10/10 [==============================] - 0s 310us/step - loss: 0.0072\n",
      "Epoch 72/100\n",
      "10/10 [==============================] - 0s 230us/step - loss: 0.0068\n",
      "Epoch 73/100\n",
      "10/10 [==============================] - 0s 266us/step - loss: 0.0072\n",
      "Epoch 74/100\n",
      "10/10 [==============================] - 0s 243us/step - loss: 0.0069\n",
      "Epoch 75/100\n",
      "10/10 [==============================] - 0s 253us/step - loss: 0.0069\n",
      "Epoch 76/100\n",
      "10/10 [==============================] - 0s 397us/step - loss: 0.0069\n",
      "Epoch 77/100\n",
      "10/10 [==============================] - 0s 259us/step - loss: 0.0069\n",
      "Epoch 78/100\n",
      "10/10 [==============================] - 0s 240us/step - loss: 0.0071\n",
      "Epoch 79/100\n",
      "10/10 [==============================] - 0s 243us/step - loss: 0.0068\n",
      "Epoch 80/100\n",
      "10/10 [==============================] - 0s 303us/step - loss: 0.0069\n",
      "Epoch 81/100\n",
      "10/10 [==============================] - 0s 266us/step - loss: 0.0069\n",
      "Epoch 82/100\n",
      "10/10 [==============================] - 0s 217us/step - loss: 0.0070\n",
      "Epoch 83/100\n",
      "10/10 [==============================] - 0s 304us/step - loss: 0.0068\n",
      "Epoch 84/100\n",
      "10/10 [==============================] - 0s 244us/step - loss: 0.0069\n",
      "Epoch 85/100\n",
      "10/10 [==============================] - 0s 255us/step - loss: 0.0069\n",
      "Epoch 86/100\n",
      "10/10 [==============================] - 0s 269us/step - loss: 0.0069\n",
      "Epoch 87/100\n",
      "10/10 [==============================] - 0s 313us/step - loss: 0.0069\n",
      "Epoch 88/100\n",
      "10/10 [==============================] - 0s 232us/step - loss: 0.0071\n",
      "Epoch 89/100\n",
      "10/10 [==============================] - 0s 257us/step - loss: 0.0070\n",
      "Epoch 90/100\n",
      "10/10 [==============================] - 0s 333us/step - loss: 0.0069\n",
      "Epoch 91/100\n",
      "10/10 [==============================] - 0s 574us/step - loss: 0.0069\n",
      "Epoch 92/100\n",
      "10/10 [==============================] - 0s 182us/step - loss: 0.0072\n",
      "Epoch 93/100\n",
      "10/10 [==============================] - 0s 271us/step - loss: 0.0068\n",
      "Epoch 94/100\n",
      "10/10 [==============================] - 0s 232us/step - loss: 0.0069\n",
      "Epoch 95/100\n",
      "10/10 [==============================] - 0s 300us/step - loss: 0.0068\n",
      "Epoch 96/100\n",
      "10/10 [==============================] - 0s 399us/step - loss: 0.0070\n",
      "Epoch 97/100\n",
      "10/10 [==============================] - 0s 236us/step - loss: 0.0069\n",
      "Epoch 98/100\n",
      "10/10 [==============================] - 0s 263us/step - loss: 0.0069\n",
      "Epoch 99/100\n"
     ]
    },
    {
     "name": "stdout",
     "output_type": "stream",
     "text": [
      "10/10 [==============================] - 0s 227us/step - loss: 0.0069\n",
      "Epoch 100/100\n",
      "10/10 [==============================] - 0s 230us/step - loss: 0.0068\n"
     ]
    },
    {
     "data": {
      "text/plain": [
       "<keras.callbacks.History at 0x7f67cedcd048>"
      ]
     },
     "execution_count": 11,
     "metadata": {},
     "output_type": "execute_result"
    }
   ],
   "source": [
    "# indicate the loss function and use stochastic gradient descent\n",
    "# (sgd) as optimizer\n",
    "model.compile(loss='mse', optimizer='sgd')\n",
    "\n",
    "# feed the network with complete dataset (1 epoch) 100 times\n",
    "# batch size of sgd is 4\n",
    "model.fit(x, y, epochs=100, batch_size=4)"
   ]
  },
  {
   "cell_type": "code",
   "execution_count": 12,
   "metadata": {},
   "outputs": [],
   "source": [
    "# simple validation by predicting the output based on x\n",
    "ypred = model.predict(x)"
   ]
  },
  {
   "cell_type": "code",
   "execution_count": 13,
   "metadata": {},
   "outputs": [
    {
     "data": {
      "text/plain": [
       "array([[1.0081618],\n",
       "       [1.3096681],\n",
       "       [1.9482937],\n",
       "       [2.1696005],\n",
       "       [2.7281036],\n",
       "       [2.9355402],\n",
       "       [3.340682 ],\n",
       "       [3.74331  ],\n",
       "       [4.153548 ],\n",
       "       [4.6843686]], dtype=float32)"
      ]
     },
     "execution_count": 13,
     "metadata": {},
     "output_type": "execute_result"
    }
   ],
   "source": [
    "ypred"
   ]
  },
  {
   "cell_type": "code",
   "execution_count": 14,
   "metadata": {},
   "outputs": [
    {
     "data": {
      "text/plain": [
       "array([[1. ],\n",
       "       [1.4],\n",
       "       [1.8],\n",
       "       [2.2],\n",
       "       [2.6],\n",
       "       [3. ],\n",
       "       [3.4],\n",
       "       [3.8],\n",
       "       [4.2],\n",
       "       [4.6]])"
      ]
     },
     "execution_count": 14,
     "metadata": {},
     "output_type": "execute_result"
    }
   ],
   "source": [
    "y"
   ]
  },
  {
   "cell_type": "code",
   "execution_count": 15,
   "metadata": {},
   "outputs": [
    {
     "name": "stdout",
     "output_type": "stream",
     "text": [
      "k (Linear Algebra Method):\n",
      "[[2.05252574]\n",
      " [3.11903007]]\n",
      "Ground Truth, Linear Alg Prediction, MLP Prediction\n",
      "[[1.         1.00677494 1.00816178]\n",
      " [1.4        1.30815669 1.30966806]\n",
      " [1.8        1.94651857 1.94829369]\n",
      " [2.2        2.16773384 2.16960049]\n",
      " [2.6        2.72600634 2.72810364]\n",
      " [3.         2.93335763 2.9355402 ]\n",
      " [3.4        3.33833208 3.34068203]\n",
      " [3.8        3.740794   3.74330997]\n",
      " [4.2        4.15086212 4.15354776]\n",
      " [4.6        4.68146378 4.68436861]]\n"
     ]
    }
   ],
   "source": [
    "# linear algebra method\n",
    "ones = np.ones(x.shape)\n",
    "\n",
    "# A is the concat of x and 1s\n",
    "A = np.concatenate([x,ones], axis=1)\n",
    "\n",
    "# compute k using using pseudo-inverse\n",
    "k = np.matmul(np.linalg.pinv(A), y) \n",
    "\n",
    "print(\"k (Linear Algebra Method):\")\n",
    "print(k)\n",
    "# predict the output using linear algebra solution\n",
    "yla = np.matmul(A, k)\n",
    "\n",
    "# print ground truth, linear algebra, MLP solutions\n",
    "outputs = np.concatenate([y, yla, ypred], axis=1)\n",
    "print(\"Ground Truth, Linear Alg Prediction, MLP Prediction\")\n",
    "print(outputs)"
   ]
  },
  {
   "cell_type": "code",
   "execution_count": 17,
   "metadata": {},
   "outputs": [
    {
     "name": "stdout",
     "output_type": "stream",
     "text": [
      "[[7.228037]]\n"
     ]
    }
   ],
   "source": [
    "# Uncomment to see the output for a new input data \n",
    "# that is not part of the training data.\n",
    "x = np.array([2])\n",
    "ypred = model.predict(x)\n",
    "print(ypred) # y = 2*x +3 = 7"
   ]
  },
  {
   "cell_type": "code",
   "execution_count": null,
   "metadata": {},
   "outputs": [],
   "source": []
  }
 ],
 "metadata": {
  "kernelspec": {
   "display_name": "Python 3",
   "language": "python",
   "name": "python3"
  },
  "language_info": {
   "codemirror_mode": {
    "name": "ipython",
    "version": 3
   },
   "file_extension": ".py",
   "mimetype": "text/x-python",
   "name": "python",
   "nbconvert_exporter": "python",
   "pygments_lexer": "ipython3",
   "version": "3.6.6"
  }
 },
 "nbformat": 4,
 "nbformat_minor": 2
}
