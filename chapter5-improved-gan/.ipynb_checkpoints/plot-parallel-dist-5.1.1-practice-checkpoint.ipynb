{
 "cells": [
  {
   "cell_type": "markdown",
   "metadata": {},
   "source": [
    "### Full code"
   ]
  },
  {
   "cell_type": "code",
   "execution_count": 20,
   "metadata": {},
   "outputs": [
    {
     "data": {
      "image/png": "[encoded data removed]",
      "text/plain": [
       "<Figure size 432x288 with 1 Axes>"
      ]
     },
     "metadata": {},
     "output_type": "display_data"
    }
   ],
   "source": [
    "'''\n",
    "Utility for plotting 2 parallel distributions\n",
    "'''\n",
    "\n",
    "import numpy as np\n",
    "import matplotlib.pyplot as plt\n",
    "%matplotlib inline\n",
    "\n",
    "want_noise = True\n",
    "# grayscale plot, comment if color is wanted\n",
    "plt.style.use('grayscale')\n",
    "\n",
    "x = np.zeros((1000,))\n",
    "y = np.random.uniform(0, 1, x.shape)\n",
    "plt.xlabel('x')\n",
    "plt.ylabel('y')\n",
    "plt.plot(x, y, 'o-', label=r'$p_{data}$')\n",
    "\n",
    "x = 0.5 * np.ones((1000,))\n",
    "y = np.random.uniform(0, 1, x.shape)\n",
    "plt.xlabel('x')\n",
    "plt.ylabel('y')\n",
    "plt.plot(x, y, 's-', label=r'$p_{g}$')\n",
    "\n",
    "plt.legend(loc=0)\n",
    "plt.grid(b=True)\n",
    "# plt.savefig(\"divergence.png\")\n",
    "plt.show()\n",
    "plt.close('all')"
   ]
  },
  {
   "cell_type": "code",
   "execution_count": null,
   "metadata": {},
   "outputs": [],
   "source": []
  }
 ],
 "metadata": {
  "kernelspec": {
   "display_name": "Python 3",
   "language": "python",
   "name": "python3"
  },
  "language_info": {
   "codemirror_mode": {
    "name": "ipython",
    "version": 3
   },
   "file_extension": ".py",
   "mimetype": "text/x-python",
   "name": "python",
   "nbconvert_exporter": "python",
   "pygments_lexer": "ipython3",
   "version": "3.6.6"
  }
 },
 "nbformat": 4,
 "nbformat_minor": 2
}
